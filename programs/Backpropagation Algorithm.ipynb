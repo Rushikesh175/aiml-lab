{
 "cells": [
  {
   "cell_type": "code",
   "execution_count": 1,
   "metadata": {},
   "outputs": [
    {
     "name": "stdout",
     "output_type": "stream",
     "text": [
      "Input: \n",
      "[[0.66666667 1.        ]\n",
      " [0.33333333 0.55555556]\n",
      " [1.         0.66666667]]\n",
      "Actual Output: \n",
      "[[92.]\n",
      " [86.]\n",
      " [89.]]\n",
      "Predicted Output: \n",
      " [[0.99999987]\n",
      " [0.99999964]\n",
      " [0.99999988]]\n"
     ]
    }
   ],
   "source": [
    "import numpy as np\n",
    "X = np.array(([2, 9], [1, 5], [3, 6]), dtype=float)\n",
    "y = np.array(([92], [86], [89]), dtype=float)\n",
    "X = X/np.amax(X,axis=0) # maximum of X array longitudinally y = y/100\n",
    "#Sigmoid Function\n",
    "def sigmoid (x):\n",
    "    return (1/(1 + np.exp(-x)))\n",
    "#Derivative of Sigmoid Function\n",
    "def derivatives_sigmoid(x):\n",
    "    return x * (1 - x)\n",
    "\t\t\t\t\t\t#Variable initialization\t\t\n",
    "epoch=7000\t       \t   \t\t#Setting training iterations\n",
    "lr=0.1 \t\t\t   \t\t#Setting learning rate\n",
    "inputlayer_neurons = 2 \t\t#number of features in data set\n",
    "hiddenlayer_neurons = 3\t\t #number of hidden layers neurons\n",
    "output_neurons = 1\t\t\t #number of neurons at output layer\n",
    "\t\t\t\t\t\t#weight and bias initialization\n",
    "\n",
    "wh=np.random.uniform(size=(inputlayer_neurons,hiddenlayer_neurons))\n",
    "bh=np.random.uniform(size=(1,hiddenlayer_neurons))\n",
    "wout=np.random.uniform(size=(hiddenlayer_neurons,output_neurons))\n",
    "\n",
    "bout=np.random.uniform(size=(1,output_neurons)) \t\t\t\t\n",
    "\t# draws a random range of numbers uniformly of dim x*y\n",
    "#Forward Propagation \n",
    "for i in range(epoch):\n",
    "    hinp1=np.dot(X,wh)\n",
    "    hinp=hinp1 + bh\n",
    "    hlayer_act = sigmoid(hinp)\n",
    "    outinp1=np.dot(hlayer_act,wout)\n",
    "    outinp= outinp1+ bout\n",
    "    output = sigmoid(outinp)\n",
    "#Backpropagation\n",
    "    EO = y-output\n",
    "    outgrad = derivatives_sigmoid(output)\n",
    "    d_output = EO* outgrad\n",
    "    EH = d_output.dot(wout.T)\n",
    "    hiddengrad = derivatives_sigmoid(hlayer_act)\n",
    "\n",
    "\n",
    "\n",
    "\n",
    "#how much hidden layer wts contributed to error\n",
    "    d_hiddenlayer = EH * hiddengrad\n",
    "    wout += hlayer_act.T.dot(d_output) *lr\n",
    "# dotproduct of nextlayererror and currentlayerop\n",
    "\n",
    "    bout += np.sum(d_output, axis=0,keepdims=True) *lr \n",
    "    wh += X.T.dot(d_hiddenlayer) *lr\n",
    "#bh += np.sum(d_hiddenlayer, axis=0,keepdims=True) *lr\n",
    "print(\"Input: \\n\" + str(X))\n",
    "print(\"Actual Output: \\n\" + str(y))\n",
    "print(\"Predicted Output: \\n\" ,output)\n"
   ]
  },
  {
   "cell_type": "code",
   "execution_count": null,
   "metadata": {},
   "outputs": [],
   "source": []
  }
 ],
 "metadata": {
  "kernelspec": {
   "display_name": "Python 3",
   "language": "python",
   "name": "python3"
  },
  "language_info": {
   "codemirror_mode": {
    "name": "ipython",
    "version": 3
   },
   "file_extension": ".py",
   "mimetype": "text/x-python",
   "name": "python",
   "nbconvert_exporter": "python",
   "pygments_lexer": "ipython3",
   "version": "3.8.5"
  }
 },
 "nbformat": 4,
 "nbformat_minor": 4
}
